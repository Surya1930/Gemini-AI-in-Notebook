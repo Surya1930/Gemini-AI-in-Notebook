{
 "cells": [
  {
   "cell_type": "markdown",
   "metadata": {},
   "source": [
    "### Project Documentation: Using Google’s Gemini AI in Jupyter Notebook"
   ]
  },
  {
   "cell_type": "markdown",
   "metadata": {},
   "source": [
    "*Learn how to integrate and leverage Gemini AI for creative and technical tasks directly within a Jupyter environment.*"
   ]
  },
  {
   "cell_type": "markdown",
   "metadata": {},
   "source": [
    "#### Overview"
   ]
  },
  {
   "cell_type": "markdown",
   "metadata": {},
   "source": [
    "This Jupyter Notebook demonstrates a step-by-step workflow to integrate Google’s Gemini AI model (gemini-1.5-flash-001) for generating text-based outputs. The example focuses on crafting a rhythmic poem, but the methodology can be adapted for diverse applications like content generation, data analysis, or brainstorming."
   ]
  },
  {
   "cell_type": "markdown",
   "metadata": {},
   "source": [
    "#### Key Componentes"
   ]
  },
  {
   "cell_type": "markdown",
   "metadata": {},
   "source": [
    "**Setup & Configuration**\n",
    "* Dependencies: Install google-generativeai and google-api-core for API connectivity.\n",
    "* API Key Management: Securely retrieves the Google API key (best practice: store in environment        variables).\n",
    "* Model Initialization: Configures the Gemini client with a custom endpoint (optional) and initializes the gemini-1.5-flash-001 model.\n"
   ]
  },
  {
   "cell_type": "markdown",
   "metadata": {},
   "source": [
    "#### Code Breakdown\n"
   ]
  },
  {
   "cell_type": "markdown",
   "metadata": {},
   "source": [
    "Install & Import Libraries"
   ]
  },
  {
   "cell_type": "code",
   "execution_count": 1,
   "metadata": {},
   "outputs": [],
   "source": [
    "# Install dependencies (uncomment if needed)  \n",
    "# !pip install google-generativeai google-api-core  \n",
    "import os  \n",
    "import google.generativeai as genai  \n",
    "from google.api_core import client_options as client_options_lib "
   ]
  },
  {
   "cell_type": "markdown",
   "metadata": {},
   "source": [
    "Configure Gemini API"
   ]
  },
  {
   "cell_type": "code",
   "execution_count": 2,
   "metadata": {},
   "outputs": [],
   "source": [
    "# Load API key from environment variables (ensure security)\n",
    "os.environ[\"GOOGLE_API_KEY\"] = \"your_api_key\"  # Replace with your API key  \n",
    "genai.configure(  \n",
    "    api_key=os.getenv(\"GOOGLE_API_KEY\"),  \n",
    "    transport=\"rest\",  \n",
    "    client_options=client_options_lib.ClientOptions()  \n",
    ")  \n",
    "\n",
    "# Initialize the Gemini model\n",
    "model_flash = genai.GenerativeModel('gemini-1.5-flash-001')"
   ]
  },
  {
   "cell_type": "markdown",
   "metadata": {},
   "source": [
    "Define Generation Functions"
   ]
  },
  {
   "cell_type": "code",
   "execution_count": 3,
   "metadata": {},
   "outputs": [],
   "source": [
    "def flash(prompt, model=model_flash, temperature=0.0):  \n",
    "    \"\"\"Generates a response using Gemini AI model.\"\"\"  \n",
    "    try:\n",
    "        return model.generate_content(prompt, generation_config={'temperature': temperature})  \n",
    "    except Exception as e:\n",
    "        print(\"Error generating response:\", e)\n",
    "        return None\n",
    "\n",
    "def prompt(feed, temp = 0.0):  \n",
    "    \"\"\"Passes user input to Gemini and prints the response.\"\"\"  \n",
    "    response = flash(feed, model=model_flash, temperature= temp)  \n",
    "    if response:\n",
    "        print(response.text) "
   ]
  },
  {
   "cell_type": "markdown",
   "metadata": {},
   "source": [
    "Execute Example"
   ]
  },
  {
   "cell_type": "code",
   "execution_count": 4,
   "metadata": {},
   "outputs": [
    {
     "name": "stdout",
     "output_type": "stream",
     "text": [
      "**Hello World**\n",
      "\n",
      "He-llo, World, a sound so bright,\n",
      "A spark of code, a shining light.\n",
      "The first words spoken, clear and bold,\n",
      "A story new, a tale untold.\n",
      "\n",
      "From lines of code, a message flows,\n",
      "A symphony of bits, a gentle prose.\n",
      "The screen awakes, a canvas wide,\n",
      "Where dreams take flight, and thoughts reside.\n",
      "\n",
      "He-llo, World, a greeting warm,\n",
      "A welcome to a digital storm.\n",
      "A universe of data, vast and deep,\n",
      "Where knowledge grows, and secrets keep.\n",
      "\n",
      "So let us sing, with joy and pride,\n",
      "He-llo, World, our digital guide.\n",
      "May every line, with grace and ease,\n",
      "Bring forth a world, where all can seize. \n",
      "\n"
     ]
    }
   ],
   "source": [
    "# Test case: Generating a rhythmic poem\n",
    "prompt(\"Write a rhythmic poem on 'Hello World'\")"
   ]
  },
  {
   "cell_type": "markdown",
   "metadata": {},
   "source": [
    "#### Best Practices and Examples"
   ]
  },
  {
   "cell_type": "markdown",
   "metadata": {},
   "source": [
    "##### 1. Experimentation with Temperature\n",
    "\n",
    "To balance creativity and precision, adjust the temperature parameter:"
   ]
  },
  {
   "cell_type": "code",
   "execution_count": 5,
   "metadata": {},
   "outputs": [
    {
     "name": "stdout",
     "output_type": "stream",
     "text": [
      "## Newton's Laws of Motion in a Nutshell:\n",
      "\n",
      "**1. Law of Inertia:** An object at rest stays at rest, and an object in motion stays in motion at a constant velocity, unless acted upon by a net force.  Think of a ball sitting still, or a car moving at a steady speed on a straight road.\n",
      "\n",
      "**2. Law of Acceleration:** The acceleration of an object is directly proportional to the net force acting on it and inversely proportional to its mass.  This means a bigger force makes things speed up or slow down faster, and heavier objects are harder to move.\n",
      "\n",
      "**3. Law of Action-Reaction:** For every action, there is an equal and opposite reaction.  Think of jumping: you push down on the ground, and the ground pushes back up on you, propelling you into the air. \n",
      "\n",
      "These three laws form the foundation of classical mechanics, explaining how objects move and interact with each other. \n",
      "\n",
      "---------------------------------------------------------------------\n",
      "Whiskers twitched, a faint glow emanating from his emerald eyes, Midnight the tabby prepared for his latest adventure.  He wasn't just any cat; he was a time traveler, a guardian of history, with a magic collar that shimmered with celestial energy.  His latest mission: prevent the theft of the legendary Sunstone, a crystal said to hold the power of a thousand suns.\n",
      "\n",
      "He materialized in a bustling marketplace, the air thick with the scent of spices and the cacophony of hawkers.  The year was 1485, the place, the sprawling city of Alexandria.  He recognized the thief, a slithering shadow known as Scarab, notorious for his cunning and swiftness.  Scarab, with eyes like molten gold, was already making his way towards the Temple of Ra, where the Sunstone lay guarded.\n",
      "\n",
      "Midnight, a blur of ginger fur, slipped through the crowded streets, his senses alert.  He reached the temple just as Scarab, cloaked in darkness, was about to break through the temple's ornate doors.  He hissed, a sound that echoed with surprising power, startling the thief.\n",
      "\n",
      "\"Who dares disturb Scarab's plans?\" Scarab hissed back, his voice a chilling whisper.\n",
      "\n",
      "\"A guardian of time,\" Midnight retorted, his fur bristling.  \"The Sunstone will not be stolen on my watch.\"\n",
      "\n",
      "Scarab, dismissive, lunged.  But Midnight was too quick, dodging the attack with agility born of centuries of experience.  He leapt onto a pillar, a mischievous glint in his eyes.\n",
      "\n",
      "\"You may be fast, Scarab, but I am faster,\" he meowed, his voice echoing with the ancient wisdom of ages.\n",
      "\n",
      "The ensuing chase was a whirlwind of feline grace and shadowy cunning. Midnight, utilizing the architectural nuances of the temple and his feline agility, kept Scarab at bay.  He led the thief on a dizzying pursuit, through intricate corridors and hidden chambers, finally cornering him in the sanctum where the Sunstone rested.\n",
      "\n",
      "Scarab, cornered and desperate, unleashed a burst of dark magic.  The chamber shook, and the air crackled with sinister energy.  But Midnight, undeterred, faced him with a newfound intensity.  He closed his eyes, focusing on the collar's magic, its celestial energy surging through him. \n",
      "\n",
      "With a powerful hiss, he unleashed a wave of pure light, dispelling the dark magic and throwing Scarab back.  The thief, weakened and defeated, fled into the shadows.\n",
      "\n",
      "Midnight, his chest heaving, approached the Sunstone, a radiant orb pulsing with golden light.  He felt its warmth, its power, and understood the responsibility entrusted to him. He knew he would return to his own time, but the memory of this adventure, of protecting the Sunstone and safeguarding history, would forever be etched in his feline heart.\n",
      "\n",
      "As the sun rose, casting a golden glow over Alexandria, Midnight, the time-traveling tabby, vanished into the swirling mists of time, leaving behind a legacy of bravery and the faintest whisper of a purr, a testament to his unwavering commitment to protecting the threads of time. He knew, as he disappeared into the ethereal vortex, that his journey, and his duty, were far from over.  He was Midnight, the guardian of time, and he would always be there, a silent protector in the shadows of history. \n",
      "\n"
     ]
    }
   ],
   "source": [
    "# Low temperature for deterministic output\n",
    "prompt(\"Briefly explain Newton's laws of motion.\", temp =0.1)\n",
    "print(\"---------------------------------------------------------------------\")\n",
    "# High temperature for creative storytelling\n",
    "prompt(\"Write a fantasy story about a time-traveling cat.\", temp=0.9)"
   ]
  },
  {
   "cell_type": "markdown",
   "metadata": {},
   "source": [
    "##### 2. Scalability for Other Use Cases"
   ]
  },
  {
   "cell_type": "markdown",
   "metadata": {},
   "source": [
    "This framework can be extended beyond simple text generation:"
   ]
  },
  {
   "cell_type": "markdown",
   "metadata": {},
   "source": [
    "- Code Generation"
   ]
  },
  {
   "cell_type": "code",
   "execution_count": 6,
   "metadata": {},
   "outputs": [
    {
     "name": "stdout",
     "output_type": "stream",
     "text": [
      "```python\n",
      "def merge_sort(arr):\n",
      "  \"\"\"\n",
      "  Sorts a list using the merge sort algorithm.\n",
      "\n",
      "  Args:\n",
      "    arr: The list to be sorted.\n",
      "\n",
      "  Returns:\n",
      "    The sorted list.\n",
      "  \"\"\"\n",
      "\n",
      "  if len(arr) <= 1:\n",
      "    return arr\n",
      "\n",
      "  mid = len(arr) // 2\n",
      "  left_half = arr[:mid]\n",
      "  right_half = arr[mid:]\n",
      "\n",
      "  left_half = merge_sort(left_half)\n",
      "  right_half = merge_sort(right_half)\n",
      "\n",
      "  return merge(left_half, right_half)\n",
      "\n",
      "def merge(left, right):\n",
      "  \"\"\"\n",
      "  Merges two sorted lists into a single sorted list.\n",
      "\n",
      "  Args:\n",
      "    left: The first sorted list.\n",
      "    right: The second sorted list.\n",
      "\n",
      "  Returns:\n",
      "    The merged sorted list.\n",
      "  \"\"\"\n",
      "\n",
      "  merged = []\n",
      "  i = 0\n",
      "  j = 0\n",
      "\n",
      "  while i < len(left) and j < len(right):\n",
      "    if left[i] <= right[j]:\n",
      "      merged.append(left[i])\n",
      "      i += 1\n",
      "    else:\n",
      "      merged.append(right[j])\n",
      "      j += 1\n",
      "\n",
      "  while i < len(left):\n",
      "    merged.append(left[i])\n",
      "    i += 1\n",
      "\n",
      "  while j < len(right):\n",
      "    merged.append(right[j])\n",
      "    j += 1\n",
      "\n",
      "  return merged\n",
      "\n",
      "# Example usage\n",
      "my_list = [5, 2, 4, 6, 1, 3]\n",
      "sorted_list = merge_sort(my_list)\n",
      "print(sorted_list)  # Output: [1, 2, 3, 4, 5, 6]\n",
      "```\n",
      "\n",
      "**Explanation:**\n",
      "\n",
      "1. **`merge_sort(arr)` function:**\n",
      "   - **Base case:** If the list has 0 or 1 element, it's already sorted, so return it.\n",
      "   - **Divide:** Split the list into two halves (left and right).\n",
      "   - **Conquer:** Recursively call `merge_sort` on both halves to sort them.\n",
      "   - **Combine:** Call the `merge` function to merge the sorted halves into a single sorted list.\n",
      "\n",
      "2. **`merge(left, right)` function:**\n",
      "   - Creates an empty list `merged` to store the result.\n",
      "   - Uses two pointers `i` and `j` to iterate through the `left` and `right` lists, respectively.\n",
      "   - Compares elements from both lists and appends the smaller element to `merged`.\n",
      "   - After one list is exhausted, appends the remaining elements from the other list to `merged`.\n",
      "   - Returns the `merged` list.\n",
      "\n",
      "**Key points:**\n",
      "\n",
      "- **Recursive:** The `merge_sort` function uses recursion to divide the list into smaller subproblems.\n",
      "- **Divide and Conquer:** The algorithm follows the divide-and-conquer paradigm.\n",
      "- **Stable:** Merge sort is a stable sorting algorithm, meaning that elements with equal values maintain their relative order in the sorted list.\n",
      "- **Time Complexity:** O(n log n) in all cases.\n",
      "- **Space Complexity:** O(n) due to the extra space used for merging.\n",
      "\n"
     ]
    }
   ],
   "source": [
    "def generate_code(prompt, model=model_flash, temperature=0.2):\n",
    "    \"\"\"Generates high-quality code snippets using Gemini AI.\"\"\"\n",
    "    code_prompt = f\"Write a well-structured and efficient code snippet for: {prompt}\"\n",
    "    response = flash(code_prompt, model, temperature)\n",
    "    if response:\n",
    "        print(response.text)\n",
    "    else:\n",
    "        print(\"Error: Unable to generate code. Please try again.\")\n",
    "\n",
    "# Usage\n",
    "generate_code(\"Write a Python function to sort a list using merge sort.\")"
   ]
  },
  {
   "cell_type": "code",
   "execution_count": 7,
   "metadata": {},
   "outputs": [
    {
     "name": "stdout",
     "output_type": "stream",
     "text": [
      "```python\n",
      "def fibonacci(n: int) -> int:\n",
      "  \"\"\"\n",
      "  Calculates the nth Fibonacci number using recursion.\n",
      "\n",
      "  Args:\n",
      "      n: The index of the Fibonacci number to calculate (starting from 0).\n",
      "\n",
      "  Returns:\n",
      "      The nth Fibonacci number.\n",
      "\n",
      "  Examples:\n",
      "      fibonacci(0) == 0\n",
      "      fibonacci(1) == 1\n",
      "      fibonacci(5) == 5\n",
      "  \"\"\"\n",
      "  if n <= 1:\n",
      "    return n\n",
      "  else:\n",
      "    return fibonacci(n-1) + fibonacci(n-2)\n",
      "\n",
      "# Example usage\n",
      "print(fibonacci(5))  # Output: 5\n",
      "```\n",
      "\n",
      "**Explanation:**\n",
      "\n",
      "1. **Function Definition:**\n",
      "   - `def fibonacci(n: int) -> int:` defines a function named `fibonacci` that takes an integer `n` as input and returns an integer. The type hints (`int`) improve code readability and help with static analysis.\n",
      "\n",
      "2. **Base Case:**\n",
      "   - `if n <= 1:` checks for the base cases where the Fibonacci sequence starts:\n",
      "     - `return n` returns 0 for `n = 0` and 1 for `n = 1`.\n",
      "\n",
      "3. **Recursive Step:**\n",
      "   - `else:` handles the recursive case for `n > 1`:\n",
      "     - `return fibonacci(n-1) + fibonacci(n-2)` recursively calls the `fibonacci` function with `n-1` and `n-2` to calculate the previous two Fibonacci numbers and adds them together.\n",
      "\n",
      "**Modularity:**\n",
      "- The function is self-contained and performs a single, well-defined task: calculating the nth Fibonacci number.\n",
      "\n",
      "**Readability:**\n",
      "- Clear function name (`fibonacci`) and docstring explaining the function's purpose, arguments, return value, and examples.\n",
      "- Type hints (`int`) improve code readability and help with static analysis.\n",
      "- Indentation and spacing enhance code readability.\n",
      "\n",
      "**Performance:**\n",
      "- While recursive solutions are elegant, they can be inefficient for large values of `n` due to repeated calculations. For performance-critical applications, consider using an iterative approach or memoization to avoid redundant computations.\n",
      "\n",
      "**Note:** This recursive solution is primarily for educational purposes. For practical applications, consider using an iterative approach or memoization to improve performance.\n",
      "\n"
     ]
    }
   ],
   "source": [
    "def enhanced_generate_code(prompt, model=model_flash, temperature=0.2):\n",
    "    \"\"\"Generates structured code with additional context.\"\"\"\n",
    "    code_prompt = (\n",
    "        f\"You are a professional AI assistant that writes optimized and well-commented code. \"\n",
    "        f\"Please write an efficient solution for: {prompt} \"\n",
    "        f\"Ensure best practices such as modularity, readability, and performance.\"\n",
    "    )\n",
    "    response = flash(code_prompt, model, temperature)\n",
    "    if response:\n",
    "        print(response.text)\n",
    "    else:\n",
    "        print(\"Error: Code generation failed. Try refining your prompt.\")\n",
    "\n",
    "enhanced_generate_code(\"Write a Python function to find the nth Fibonacci number using recursion.\")"
   ]
  },
  {
   "cell_type": "markdown",
   "metadata": {},
   "source": [
    "- Data Summarization"
   ]
  },
  {
   "cell_type": "code",
   "execution_count": 8,
   "metadata": {},
   "outputs": [
    {
     "name": "stdout",
     "output_type": "stream",
     "text": [
      "Please provide me with the text of the AI research paper you'd like me to summarize. I need the content of the paper to be able to extract the key takeaways. \n",
      "\n"
     ]
    }
   ],
   "source": [
    "def summarize_text(prompt, model=model_flash, temperature=0.3):\n",
    "    \"\"\"Summarizes the given text using Gemini AI.\"\"\"\n",
    "    summary_prompt = f\"Summarize the following text concisely: {prompt}\"\n",
    "    response = flash(summary_prompt, model, temperature)\n",
    "    if response:\n",
    "        print(response.text)\n",
    "    else:\n",
    "        print(\"Failed to generate summary. Try again.\")\n",
    "\n",
    "summarize_text(\"Summarize the key takeaways from the latest AI research paper.\")"
   ]
  },
  {
   "cell_type": "markdown",
   "metadata": {},
   "source": [
    "- AI-powered Q&A System"
   ]
  },
  {
   "cell_type": "code",
   "execution_count": 9,
   "metadata": {},
   "outputs": [
    {
     "name": "stdout",
     "output_type": "stream",
     "text": [
      "## Benefits of Deep Learning in AI\n",
      "\n",
      "Deep learning, a subset of machine learning, has revolutionized AI by offering significant advantages over traditional methods. Here's a breakdown of its key benefits:\n",
      "\n",
      "**1. Superior Performance in Complex Tasks:**\n",
      "\n",
      "* **Image Recognition:** Deep learning excels in tasks like object detection, image classification, and facial recognition, surpassing traditional methods in accuracy.\n",
      "* **Natural Language Processing (NLP):** Deep learning models like BERT and GPT-3 have significantly improved machine translation, text summarization, sentiment analysis, and chatbot performance.\n",
      "* **Speech Recognition:** Deep learning models can accurately transcribe speech, enabling voice assistants and speech-to-text applications.\n",
      "* **Predictive Modeling:** Deep learning can analyze vast datasets to predict future trends, enabling better decision-making in areas like finance, healthcare, and marketing.\n",
      "\n",
      "**2. Automation of Feature Engineering:**\n",
      "\n",
      "* Deep learning models automatically learn relevant features from raw data, eliminating the need for manual feature engineering. This saves time and effort, particularly in complex datasets.\n",
      "\n",
      "**3. Handling High-Dimensional Data:**\n",
      "\n",
      "* Deep learning can effectively handle large datasets with numerous features, making it suitable for analyzing complex real-world data.\n",
      "\n",
      "**4. Adaptability and Generalization:**\n",
      "\n",
      "* Deep learning models are highly adaptable and can be trained on diverse datasets, enabling them to generalize well to new, unseen data.\n",
      "\n",
      "**5. Continuous Learning and Improvement:**\n",
      "\n",
      "* Deep learning models can continuously learn and improve their performance by being exposed to new data through techniques like transfer learning and fine-tuning.\n",
      "\n",
      "**6. End-to-End Learning:**\n",
      "\n",
      "* Deep learning allows for end-to-end learning, where the model learns all aspects of a task from raw input to output, eliminating the need for separate modules.\n",
      "\n",
      "**7. Reduced Human Intervention:**\n",
      "\n",
      "* Deep learning automates many tasks, reducing the need for human intervention and enabling faster and more efficient solutions.\n",
      "\n",
      "**8. Enhanced User Experience:**\n",
      "\n",
      "* Deep learning powers personalized experiences in various applications, like recommendation systems, personalized search results, and targeted advertising.\n",
      "\n",
      "**9. Innovation and New Possibilities:**\n",
      "\n",
      "* Deep learning has opened up new possibilities in AI, leading to advancements in areas like autonomous vehicles, medical diagnosis, and drug discovery.\n",
      "\n",
      "**However, it's important to note that deep learning also has limitations:**\n",
      "\n",
      "* **Data Requirements:** Deep learning models require massive amounts of data for training, which can be a challenge in some domains.\n",
      "* **Computational Resources:** Training and deploying deep learning models can be computationally expensive, requiring specialized hardware and infrastructure.\n",
      "* **Black Box Nature:** Deep learning models can be difficult to interpret, making it challenging to understand their decision-making process.\n",
      "* **Bias and Fairness:** Deep learning models can inherit biases from the training data, leading to unfair or discriminatory outcomes.\n",
      "\n",
      "Despite these limitations, the benefits of deep learning in AI are undeniable. Its ability to solve complex problems, automate tasks, and drive innovation makes it a powerful tool for advancing the field of artificial intelligence.\n",
      "\n"
     ]
    }
   ],
   "source": [
    "def generate_answer(prompt, model=model_flash, temperature=0.3):\n",
    "    \"\"\"Generates an answer for the given question using Gemini AI.\"\"\"\n",
    "    qa_prompt = f\"Provide a detailed and accurate answer for: {prompt}\"\n",
    "    response = flash(qa_prompt, model, temperature)\n",
    "    if response:\n",
    "        print(response.text)\n",
    "    else:\n",
    "        print(\"Failed to generate an answer. Try again.\")\n",
    "\n",
    "generate_answer(\"What are the benefits of deep learning in AI?\")"
   ]
  },
  {
   "cell_type": "markdown",
   "metadata": {},
   "source": [
    "**Best Practices:**\n",
    "\n",
    "- Provide specific and detailed prompts for better code quality.\n",
    "\n",
    "- Adjust the temperature to control randomness in responses.\n",
    "\n",
    "- Use structured prompts to enforce modularity and optimization in the generated code."
   ]
  },
  {
   "cell_type": "markdown",
   "metadata": {},
   "source": [
    "#### Conclusion\n",
    "\n",
    "This project demonstrates how to integrate Google’s Gemini AI into a Jupyter Notebook for text generation. Users can tailor responses for both creative and technical purposes by experimenting with prompt engineering and model settings. The framework is flexible, allowing for expansion to support a wide range of AI-driven applications, making it a valuable tool for both developers and content creators.\n",
    "\n"
   ]
  }
 ],
 "metadata": {
  "kernelspec": {
   "display_name": "Python 3",
   "language": "python",
   "name": "python3"
  },
  "language_info": {
   "codemirror_mode": {
    "name": "ipython",
    "version": 3
   },
   "file_extension": ".py",
   "mimetype": "text/x-python",
   "name": "python",
   "nbconvert_exporter": "python",
   "pygments_lexer": "ipython3",
   "version": "3.9.6"
  }
 },
 "nbformat": 4,
 "nbformat_minor": 2
}
